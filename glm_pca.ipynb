{
 "cells": [
  {
   "cell_type": "code",
   "execution_count": 88,
   "id": "9832442e-1dec-4eed-bbc8-94d75f628c1c",
   "metadata": {},
   "outputs": [],
   "source": [
    "import math\n",
    "import copy\n",
    "import numpy as np\n",
    "import scipy\n",
    "import pandas as pd\n",
    "import anndata\n",
    "import scanpy as sc\n",
    "import torch\n",
    "import torch.nn as nn\n",
    "import torch.nn.functional as F\n",
    "import sklearn.decomposition\n",
    "import matplotlib.pyplot as plt"
   ]
  },
  {
   "cell_type": "code",
   "execution_count": 2,
   "id": "317075b2-65f9-405a-8c9d-dc60237edc92",
   "metadata": {},
   "outputs": [
    {
     "name": "stderr",
     "output_type": "stream",
     "text": [
      "/home/anders/pyenv_torch/lib/python3.11/site-packages/anndata/_core/anndata.py:121: ImplicitModificationWarning: Transforming to str index.\n",
      "  warnings.warn(\"Transforming to str index.\", ImplicitModificationWarning)\n",
      "/home/anders/pyenv_torch/lib/python3.11/site-packages/anndata/_core/anndata.py:121: ImplicitModificationWarning: Transforming to str index.\n",
      "  warnings.warn(\"Transforming to str index.\", ImplicitModificationWarning)\n"
     ]
    }
   ],
   "source": [
    "ad = anndata.AnnData(\n",
    "    X = scipy.io.mmread('/home/anders/sds/sd17l002/u/anders/ifnagrko/ifnagrko_raw_counts.mtx.gz').tocsr(),\n",
    "    obs = pd.read_csv('/home/anders/sds/sd17l002/u/anders/ifnagrko/ifnagrko_obs.csv.gz'),\n",
    "    var = pd.read_csv('/home/anders/sds/sd17l002/u/anders/ifnagrko/ifnagrko_var.csv') )"
   ]
  },
  {
   "cell_type": "code",
   "execution_count": 3,
   "id": "7f4087d4-e0d1-41be-8e2e-753ae961f7ae",
   "metadata": {},
   "outputs": [
    {
     "data": {
      "text/plain": [
       "AnnData object with n_obs × n_vars = 18302 × 2000\n",
       "    obs: 'barcode', 'celltype', 'celltype1', 'celltype2', 'dpt_pseudotime', 'svz_frac', 'hto_sum', 'leiden', 'dbscan', 'frac_mito', 'counts', 'genes', 'scrub_score', 'age', 'genotype', 'UMAP1', 'UMAP2'\n",
       "    var: 'Unnamed: 0', 'gene_name', 'gene_id', 'highly_variable', 'highly_variable_rank', 'means', 'variances', 'variances_norm'\n",
       "    uns: 'hvg'\n",
       "    layers: 'counts'"
      ]
     },
     "execution_count": 3,
     "metadata": {},
     "output_type": "execute_result"
    }
   ],
   "source": [
    "ad.layers[\"counts\"] = ad.X.copy()\n",
    "sc.pp.normalize_total( ad )\n",
    "sc.pp.highly_variable_genes(\n",
    "    ad,\n",
    "    flavor=\"seurat_v3\",\n",
    "    n_top_genes=2000,\n",
    "    layer=\"counts\",\n",
    "    subset=True,\n",
    ")\n",
    "ad"
   ]
  },
  {
   "cell_type": "code",
   "execution_count": 6,
   "id": "702d0196-c461-4d81-ad79-83bf7f19110c",
   "metadata": {},
   "outputs": [],
   "source": [
    "counts = torch.tensor( ad.layers[\"counts\"].todense(), dtype=torch.float32 )\n",
    "totals = counts.sum(1)\n",
    "lncounts = torch.log( counts/totals[:,None] + 1e-4 )"
   ]
  },
  {
   "cell_type": "code",
   "execution_count": 9,
   "id": "6fb4361e-a00c-44f5-a35c-63c608e13419",
   "metadata": {},
   "outputs": [
    {
     "data": {
      "text/plain": [
       "(20, 2000)"
      ]
     },
     "execution_count": 9,
     "metadata": {},
     "output_type": "execute_result"
    }
   ],
   "source": [
    "pca = sklearn.decomposition.PCA(20).fit( lncounts.numpy() )\n",
    "pca.components_.shape"
   ]
  },
  {
   "cell_type": "code",
   "execution_count": 34,
   "id": "a0a909a0-cc8f-4781-8eae-1b94355845a0",
   "metadata": {},
   "outputs": [],
   "source": [
    "encoder_centers = lncounts.mean(0).clone().requires_grad_(True)\n",
    "encoder_matrix = torch.tensor( pca.components_.T, requires_grad=True, dtype=torch.float32 )\n",
    "decoder_matrix = torch.tensor( pca.components_, requires_grad=True, dtype=torch.float32 )\n",
    "decoder_centers = lncounts.mean(0).clone().requires_grad_(True)"
   ]
  },
  {
   "cell_type": "code",
   "execution_count": 11,
   "id": "0fea10b8-2d3a-4cf0-96e9-ad6cbba95370",
   "metadata": {},
   "outputs": [
    {
     "data": {
      "text/plain": [
       "tensor([[ 1.1630e+01,  2.7517e+01,  2.3102e+00,  ...,  9.2211e-01,\n",
       "         -1.2445e+00, -5.8396e-01],\n",
       "        [-2.1500e+01, -4.7937e+00, -1.7415e+00,  ...,  1.4030e+00,\n",
       "         -1.4130e+00, -2.9863e+00],\n",
       "        [ 2.3597e+01, -8.0399e+00, -1.2087e-01,  ...,  2.4568e+00,\n",
       "          8.8939e-01,  4.5007e+00],\n",
       "        ...,\n",
       "        [-1.3697e+01, -1.7856e+00,  1.7581e+01,  ...,  2.4613e+00,\n",
       "          3.8042e-01, -9.2547e-01],\n",
       "        [-1.5142e+00,  9.7162e+00, -5.6973e+00,  ..., -2.0212e+00,\n",
       "          2.5672e-02, -6.3906e-01],\n",
       "        [-1.4272e+01, -3.9927e+00,  2.3455e+01,  ...,  1.0099e+00,\n",
       "          2.9713e-01, -2.1273e+00]], grad_fn=<MmBackward0>)"
      ]
     },
     "execution_count": 11,
     "metadata": {},
     "output_type": "execute_result"
    }
   ],
   "source": [
    "latent = ( lncounts - encoder_centers ) @ encoder_matrix\n",
    "latent"
   ]
  },
  {
   "cell_type": "code",
   "execution_count": 12,
   "id": "f792c0ec-b912-4000-b1d6-d86b2711cc8e",
   "metadata": {},
   "outputs": [],
   "source": [
    "lambda_hat = torch.exp( latent @ decoder_matrix + decoder_centers ) * totals[:,None]"
   ]
  },
  {
   "cell_type": "code",
   "execution_count": 13,
   "id": "74d8e9d2-bcf3-4dfe-b8ad-8d220cc6d0cc",
   "metadata": {},
   "outputs": [
    {
     "data": {
      "text/plain": [
       "tensor([[2.5049e-01, 2.0214e-01, 4.7346e-01,  ..., 5.2245e+01, 2.4171e-01,\n",
       "         2.3430e-01],\n",
       "        [9.0665e-02, 2.3785e-01, 1.3015e-01,  ..., 5.7705e+01, 9.3463e-02,\n",
       "         1.4912e+00],\n",
       "        [1.5239e-01, 1.5394e-01, 2.1735e+00,  ..., 8.6692e-01, 1.5844e-01,\n",
       "         3.3152e-01],\n",
       "        ...,\n",
       "        [1.5659e-01, 2.0947e-01, 1.1862e-01,  ..., 1.6465e+02, 1.5789e-01,\n",
       "         7.7177e+00],\n",
       "        [3.8133e-02, 3.7210e-02, 5.0348e-02,  ..., 4.0214e+00, 9.5131e-02,\n",
       "         5.5177e-02],\n",
       "        [1.5728e-01, 2.2616e-01, 1.6303e-01,  ..., 9.0928e+01, 1.7404e-01,\n",
       "         6.9949e+00]], grad_fn=<MulBackward0>)"
      ]
     },
     "execution_count": 13,
     "metadata": {},
     "output_type": "execute_result"
    }
   ],
   "source": [
    "lambda_hat"
   ]
  },
  {
   "cell_type": "code",
   "execution_count": 14,
   "id": "82059156-b90c-4ac3-8a39-77694a359c45",
   "metadata": {},
   "outputs": [
    {
     "data": {
      "text/plain": [
       "tensor([[  0.,   0.,   0.,  ...,  46.,   0.,   0.],\n",
       "        [  0.,   0.,   0.,  ...,  90.,   0.,   0.],\n",
       "        [  0.,   0.,   0.,  ...,   0.,   0.,   0.],\n",
       "        ...,\n",
       "        [  0.,   0.,   0.,  ..., 109.,   0.,  12.],\n",
       "        [  0.,   0.,   0.,  ...,  21.,   0.,   0.],\n",
       "        [  0.,   0.,   0.,  ..., 151.,   0.,   9.]])"
      ]
     },
     "execution_count": 14,
     "metadata": {},
     "output_type": "execute_result"
    }
   ],
   "source": [
    "counts"
   ]
  },
  {
   "cell_type": "code",
   "execution_count": 15,
   "id": "00f27d23-6d91-4e25-a621-e14b4c101689",
   "metadata": {},
   "outputs": [],
   "source": [
    "alpha = .2**2"
   ]
  },
  {
   "cell_type": "code",
   "execution_count": 16,
   "id": "4cc08ff0-b6ab-4a09-90d7-d1d2d13b4522",
   "metadata": {},
   "outputs": [],
   "source": [
    "nbprob = 1. / ( lambda_hat * alpha + 1. )"
   ]
  },
  {
   "cell_type": "code",
   "execution_count": 17,
   "id": "cffcb8eb-8300-4c02-9b24-56db7f9b66f0",
   "metadata": {},
   "outputs": [
    {
     "data": {
      "text/plain": [
       "tensor(-16732323., grad_fn=<SumBackward0>)"
      ]
     },
     "execution_count": 17,
     "metadata": {},
     "output_type": "execute_result"
    }
   ],
   "source": [
    "log_likelihood = torch.lgamma( counts + 1./alpha ) - math.lgamma(1./alpha) - torch.lgamma( counts + 1 ) + counts * torch.log( 1 - nbprob ) + (1./alpha) * torch.log( nbprob )\n",
    "log_likelihood.sum()"
   ]
  },
  {
   "cell_type": "code",
   "execution_count": 18,
   "id": "de25cdcf-df05-4efd-aa2e-58ad3cc1414d",
   "metadata": {},
   "outputs": [
    {
     "data": {
      "text/plain": [
       "tensor(-16732323., grad_fn=<SumBackward0>)"
      ]
     },
     "execution_count": 18,
     "metadata": {},
     "output_type": "execute_result"
    }
   ],
   "source": [
    "log_likelihood = torch.lgamma( counts + 1./alpha ) - math.lgamma(1./alpha) - torch.lgamma( counts + 1 ) + \\\n",
    "    torch.xlogy( counts, 1 - nbprob ) + torch.xlogy( 1./alpha, nbprob )\n",
    "log_likelihood.sum()"
   ]
  },
  {
   "cell_type": "code",
   "execution_count": 19,
   "id": "656cf36d-49e9-441c-ace3-f2757918d348",
   "metadata": {},
   "outputs": [
    {
     "data": {
      "text/plain": [
       "0.5815576314926147"
      ]
     },
     "execution_count": 19,
     "metadata": {},
     "output_type": "execute_result"
    }
   ],
   "source": [
    "nbprob0 = 1. / ( counts * alpha + 1 )\n",
    "log_likelihood_saturated = torch.lgamma( counts + 1./alpha ) - math.lgamma(1./alpha) - torch.lgamma( counts + 1 ) + \\\n",
    "    torch.xlogy( counts, 1 - nbprob0 ) + torch.xlogy( 1./alpha, nbprob0 )\n",
    "( -2 * (log_likelihood - log_likelihood_saturated ) ).mean().item()\n"
   ]
  },
  {
   "cell_type": "code",
   "execution_count": 20,
   "id": "3b6fbd31-f42f-4eb6-8cd0-3cf585d5769d",
   "metadata": {},
   "outputs": [
    {
     "data": {
      "text/plain": [
       "tensor(54075896., grad_fn=<NegBackward0>)"
      ]
     },
     "execution_count": 20,
     "metadata": {},
     "output_type": "execute_result"
    }
   ],
   "source": [
    "log_likelihood_part = counts * torch.log( 1 - nbprob ) + (1./alpha) * torch.log( nbprob )\n",
    "loss = -log_likelihood_part.sum()\n",
    "loss"
   ]
  },
  {
   "cell_type": "code",
   "execution_count": 21,
   "id": "711b9453-dbe6-480a-a402-d93061273809",
   "metadata": {},
   "outputs": [],
   "source": [
    "loss.backward()"
   ]
  },
  {
   "cell_type": "code",
   "execution_count": 22,
   "id": "a2588954-ef05-49ae-a810-867c18a5c8f9",
   "metadata": {},
   "outputs": [
    {
     "data": {
      "text/plain": [
       "tensor([-939.5082, 1316.0903, 3787.9824,  ..., 7095.9502, -346.8978,\n",
       "        6605.7959])"
      ]
     },
     "execution_count": 22,
     "metadata": {},
     "output_type": "execute_result"
    }
   ],
   "source": [
    "encoder_centers.grad"
   ]
  },
  {
   "cell_type": "code",
   "execution_count": 23,
   "id": "82b9637b-8dbb-4e14-be16-bbd0ad8cb507",
   "metadata": {},
   "outputs": [
    {
     "data": {
      "text/plain": [
       "tensor([[-4.3974e-06, -1.1479e-02,  5.7341e-02,  ..., -8.9799e-02,\n",
       "          9.9221e-04, -6.2656e-02],\n",
       "        [ 1.4553e-03, -4.5472e-03, -4.3717e-02,  ...,  1.2532e-02,\n",
       "          1.1846e-03, -3.7184e-02],\n",
       "        [-3.7185e-04,  1.1363e-02, -3.1827e-03,  ...,  3.8812e-02,\n",
       "         -6.9147e-04,  6.2706e-02],\n",
       "        ...,\n",
       "        [-4.8306e-03,  1.8585e-02,  1.8708e-02,  ..., -5.7901e-02,\n",
       "         -7.0025e-04,  1.8238e-02],\n",
       "        [ 4.0338e-04,  3.7371e-02,  1.3643e-02,  ...,  3.1685e-03,\n",
       "         -5.1020e-04,  1.1436e-02],\n",
       "        [-4.9728e-04,  1.7212e-03, -3.5354e-02,  ...,  2.1039e-02,\n",
       "         -7.3830e-04,  1.2716e-01]], requires_grad=True)"
      ]
     },
     "execution_count": 23,
     "metadata": {},
     "output_type": "execute_result"
    }
   ],
   "source": [
    "decoder_matrix"
   ]
  },
  {
   "cell_type": "code",
   "execution_count": 24,
   "id": "65b09be6-2706-4df1-965f-f984f18f10ca",
   "metadata": {},
   "outputs": [
    {
     "data": {
      "text/plain": [
       "tensor([[ 1.0705e+04,  4.9684e+04, -1.3327e+05,  ...,  1.1444e+04,\n",
       "          8.1080e+03,  2.1411e+05],\n",
       "        [ 3.1664e+03,  9.8356e+03,  3.3381e+04,  ..., -5.4091e+03,\n",
       "          3.1639e+03,  4.1589e+04],\n",
       "        [ 6.3209e+03, -4.2251e+03,  6.2486e+03,  ..., -4.0955e+04,\n",
       "          6.6417e+03, -6.2264e+04],\n",
       "        ...,\n",
       "        [ 1.7448e+02, -1.0185e+03, -5.9606e+02,  ..., -5.5355e+03,\n",
       "          3.9751e+01, -2.3006e+03],\n",
       "        [-9.8762e+01, -1.7503e+03, -1.7647e+03,  ..., -5.6964e+03,\n",
       "         -6.9122e+01, -2.0445e+02],\n",
       "        [ 1.9211e+01,  2.7887e+02,  1.7133e+03,  ...,  7.1400e+03,\n",
       "          6.0949e+01, -4.7210e+03]])"
      ]
     },
     "execution_count": 24,
     "metadata": {},
     "output_type": "execute_result"
    }
   ],
   "source": [
    "decoder_matrix.grad"
   ]
  },
  {
   "cell_type": "code",
   "execution_count": 25,
   "id": "d2464a0f-0434-414a-8959-116c71705cec",
   "metadata": {},
   "outputs": [],
   "source": [
    "with torch.no_grad():\n",
    "    encoder_centers -= 1e-8 * encoder_centers.grad\n",
    "    encoder_matrix  -= 1e-8 * encoder_matrix.grad\n",
    "    decoder_matrix  -= 1e-8 * decoder_matrix.grad    \n",
    "    decoder_centers -= 1e-8 * decoder_centers.grad"
   ]
  },
  {
   "cell_type": "code",
   "execution_count": 26,
   "id": "9495bbc0-f41e-48c3-bbfa-b203cb51266c",
   "metadata": {},
   "outputs": [],
   "source": [
    "latent = ( lncounts - encoder_centers ) @ encoder_matrix\n",
    "lambda_hat = torch.exp( latent @ decoder_matrix + decoder_centers ) * totals[:,None]"
   ]
  },
  {
   "cell_type": "code",
   "execution_count": 27,
   "id": "04dfa533-0cfb-45ff-a255-d4d77cf6cf02",
   "metadata": {},
   "outputs": [
    {
     "data": {
      "text/plain": [
       "tensor(53987828., grad_fn=<NegBackward0>)"
      ]
     },
     "execution_count": 27,
     "metadata": {},
     "output_type": "execute_result"
    }
   ],
   "source": [
    "nbprob = 1. / ( lambda_hat * alpha + 1 )\n",
    "log_likelihood_part = counts * torch.log( 1 - nbprob ) + (1./alpha) * torch.log( nbprob )\n",
    "loss = -log_likelihood_part.sum()\n",
    "loss"
   ]
  },
  {
   "cell_type": "code",
   "execution_count": 28,
   "id": "017e407f-9d20-44c2-90fd-21d127aecc1b",
   "metadata": {},
   "outputs": [],
   "source": [
    "optimizer = torch.optim.Adam( ( encoder_centers, encoder_matrix, decoder_matrix, decoder_centers ), lr=1e-8 )"
   ]
  },
  {
   "cell_type": "code",
   "execution_count": 51,
   "id": "3e35e33a-0a0f-4481-8e17-7b8e6461ef57",
   "metadata": {},
   "outputs": [
    {
     "data": {
      "text/plain": [
       "[tensor([-9.1620, -9.0162, -8.1960,  ..., -4.8811, -9.1269, -7.6952],\n",
       "        device='cuda:0'),\n",
       " tensor([[-0.0229, -0.0136, -0.0276,  ...,  0.0174,  0.0304, -0.0231],\n",
       "         [-0.0061,  0.0132,  0.0337,  ...,  0.0030,  0.0129,  0.0197],\n",
       "         [ 0.0642, -0.0506, -0.0197,  ...,  0.0146,  0.0099, -0.0345],\n",
       "         ...,\n",
       "         [-0.1027,  0.0014,  0.0586,  ..., -0.0757,  0.0235,  0.0279],\n",
       "         [-0.0119, -0.0004, -0.0293,  ...,  0.0207,  0.0335, -0.0244],\n",
       "         [-0.0655, -0.0440,  0.0801,  ...,  0.0246,  0.0319,  0.1345]],\n",
       "        device='cuda:0'),\n",
       " tensor([[-0.0149, -0.0324,  0.0714,  ..., -0.0739, -0.0046, -0.0775],\n",
       "         [-0.0159, -0.0234, -0.0434,  ...,  0.0194, -0.0099, -0.0539],\n",
       "         [-0.0206,  0.0141, -0.0156,  ...,  0.0416, -0.0178,  0.0615],\n",
       "         ...,\n",
       "         [ 0.0117,  0.0413,  0.0080,  ..., -0.0390,  0.0284,  0.0251],\n",
       "         [ 0.0287,  0.0625,  0.0155,  ...,  0.0161,  0.0276,  0.0330],\n",
       "         [-0.0288, -0.0220, -0.0378,  ...,  0.0116, -0.0286,  0.1216]],\n",
       "        device='cuda:0'),\n",
       " tensor([-9.2202, -9.0133, -8.1998,  ..., -4.8273, -9.1867, -7.6519],\n",
       "        device='cuda:0')]"
      ]
     },
     "execution_count": 51,
     "metadata": {},
     "output_type": "execute_result"
    }
   ],
   "source": []
  },
  {
   "cell_type": "code",
   "execution_count": 154,
   "id": "73dce710-f801-4a3c-bff2-4d2dfcb17f76",
   "metadata": {},
   "outputs": [],
   "source": [
    "encoder_centers = lncounts.mean(0).clone().requires_grad_(True)\n",
    "encoder_matrix = torch.tensor( pca.components_.T, requires_grad=True, dtype=torch.float32 )\n",
    "decoder_matrix = torch.tensor( pca.components_, requires_grad=True, dtype=torch.float32 )\n",
    "decoder_centers = lncounts.mean(0).clone().requires_grad_(True)"
   ]
  },
  {
   "cell_type": "code",
   "execution_count": 155,
   "id": "d3839136-4824-4703-ba88-4d0734d8b9f8",
   "metadata": {},
   "outputs": [
    {
     "name": "stdout",
     "output_type": "stream",
     "text": [
      "(0.5815567374229431, 0.2480899691581726, -1.52587890625e-05, 55982.703125)\n",
      "(0.3472716510295868, 0.01691269688308239, -3.0517578125e-05, 967.3753662109375)\n",
      "(0.3406349718570709, 0.013564876280725002, -4.57763671875e-05, 495.1505126953125)\n",
      "(0.33918288350105286, 0.012897128239274025, -1.52587890625e-05, 420.5322570800781)\n",
      "(0.3385719060897827, 0.012658648192882538, -1.52587890625e-05, 354.87255859375)\n",
      "(0.33810749650001526, 0.012473827227950096, -4.57763671875e-05, 337.72418212890625)\n",
      "(0.3377564549446106, 0.012348627671599388, -4.57763671875e-05, 334.24237060546875)\n",
      "(0.33765503764152527, 0.012171745300292969, -3.0517578125e-05, 333.337158203125)\n",
      "(0.3375290334224701, 0.012098225764930248, -1.52587890625e-05, 327.39349365234375)\n",
      "(0.33724069595336914, 0.01214592158794403, -2.288818359375e-05, 325.6202392578125)\n",
      "(0.3371332287788391, 0.012116111814975739, -3.0517578125e-05, 323.88092041015625)\n",
      "(0.3370274007320404, 0.012092264369130135, -1.52587890625e-05, 322.64410400390625)\n",
      "(0.3369239568710327, 0.012062454596161842, -3.0517578125e-05, 321.851318359375)\n",
      "(0.3368293046951294, 0.012008797377347946, -1.52587890625e-05, 322.12860107421875)\n",
      "(0.3367539644241333, 0.011996873654425144, -1.52587890625e-05, 322.1785888671875)\n",
      "(0.33663567900657654, 0.01199091225862503, -1.52587890625e-05, 321.08489990234375)\n",
      "(0.3365321457386017, 0.01199091225862503, -3.0517578125e-05, 319.23504638671875)\n",
      "(0.33644694089889526, 0.011961102485656738, -3.0517578125e-05, 316.89520263671875)\n",
      "(0.33644938468933105, 0.012104188092052937, -3.0517578125e-05, 316.4998779296875)\n",
      "(0.3362773358821869, 0.012032645754516125, -3.0517578125e-05, 314.3897705078125)\n",
      "(0.3361998498439789, 0.011967064812779427, -1.52587890625e-05, 315.83551025390625)\n",
      "(0.33612731099128723, 0.01195514015853405, -1.52587890625e-05, 315.2091064453125)\n",
      "(0.3360527753829956, 0.011937255039811134, -6.103515625e-05, 314.0787353515625)\n",
      "(0.3361693024635315, 0.011931292712688446, -1.52587890625e-05, 311.969970703125)\n",
      "(0.33593621850013733, 0.011943216435611248, -4.57763671875e-05, 312.09722900390625)\n",
      "(0.3359326720237732, 0.011925331316888332, -3.0517578125e-05, 315.652099609375)\n",
      "(0.33590105175971985, 0.011899948120117188, -1.52587890625e-05, 313.19268798828125)\n",
      "(0.3358522355556488, 0.011895522475242615, -3.0517578125e-05, 312.794677734375)\n",
      "(0.3358103334903717, 0.011877636425197124, -3.0517578125e-05, 312.1876220703125)\n",
      "(0.33580291271209717, 0.011823979206383228, -3.0517578125e-05, 312.38104248046875)\n",
      "(0.33572331070899963, 0.011806094087660313, -1.52587890625e-05, 310.75384521484375)\n",
      "(0.33587875962257385, 0.011740513145923615, -1.52587890625e-05, 313.41900634765625)\n",
      "(0.3357557952404022, 0.01192474365234375, -1.52587890625e-05, 310.56475830078125)\n"
     ]
    },
    {
     "ename": "KeyboardInterrupt",
     "evalue": "",
     "output_type": "error",
     "traceback": [
      "\u001b[0;31m---------------------------------------------------------------------------\u001b[0m",
      "\u001b[0;31mKeyboardInterrupt\u001b[0m                         Traceback (most recent call last)",
      "Cell \u001b[0;32mIn[155], line 27\u001b[0m\n\u001b[1;32m     25\u001b[0m loss \u001b[38;5;241m=\u001b[39m \u001b[38;5;241m-\u001b[39mlog_likelihood_part\u001b[38;5;241m.\u001b[39msum()\n\u001b[1;32m     26\u001b[0m \u001b[38;5;66;03m#loss = deviance.sum()\u001b[39;00m\n\u001b[0;32m---> 27\u001b[0m \u001b[38;5;28;01mif\u001b[39;00m \u001b[43mtorch\u001b[49m\u001b[38;5;241;43m.\u001b[39;49m\u001b[43misnan\u001b[49m\u001b[43m(\u001b[49m\u001b[43mloss\u001b[49m\u001b[43m)\u001b[49m\u001b[38;5;241;43m.\u001b[39;49m\u001b[43mitem\u001b[49m\u001b[43m(\u001b[49m\u001b[43m)\u001b[49m:\n\u001b[1;32m     28\u001b[0m     \u001b[38;5;28mprint\u001b[39m( \u001b[38;5;124m\"\u001b[39m\u001b[38;5;124mnan loss\u001b[39m\u001b[38;5;124m\"\u001b[39m )\n\u001b[1;32m     29\u001b[0m     \u001b[38;5;28;01mbreak\u001b[39;00m\n",
      "\u001b[0;31mKeyboardInterrupt\u001b[0m: "
     ]
    }
   ],
   "source": [
    "counts = counts.detach().cuda()\n",
    "lncounts = lncounts.detach().cuda()\n",
    "totals = totals.detach().cuda()\n",
    "encoder_centers = encoder_centers.detach().cuda().requires_grad_(True)\n",
    "encoder_matrix = encoder_matrix.detach().cuda().requires_grad_(True)\n",
    "decoder_matrix = ( decoder_matrix.detach() + torch.randn_like(decoder_matrix)/1e5 ).cuda().requires_grad_(True) \n",
    "decoder_centers = decoder_centers.detach().cuda().requires_grad_(True)\n",
    "\n",
    "optimizer = torch.optim.Adam( \n",
    "    ( encoder_centers, encoder_matrix, decoder_matrix, decoder_centers ), \n",
    "    #( encoder_matrix, decoder_matrix ), \n",
    "    lr=1e-3 )\n",
    "\n",
    "nbprob0 = 1. / ( counts * alpha + 1 )\n",
    "log_likelihood_saturated_part = torch.xlogy( counts, 1 - nbprob0 ) + torch.xlogy( 1./alpha, nbprob0 )\n",
    "\n",
    "for step in range(100000):\n",
    "    latent = ( lncounts - encoder_centers ) @ encoder_matrix\n",
    "    lambda_hat = torch.exp( latent @ decoder_matrix + decoder_centers ) * totals[:,None]\n",
    "    nbprob = 1. / ( lambda_hat * alpha + 1 )\n",
    "    nbprob = torch.clamp( nbprob, 1e-5, 1-1e-5 )\n",
    "    log_likelihood_part = torch.xlogy( counts, 1 - nbprob ) + torch.xlogy( 1./alpha, nbprob )\n",
    "    #deviance = -2* ( log_likelihood_part - log_likelihood_saturated_part )\n",
    "    #deviance = torch.clamp( deviance, -1e-5, 100 )\n",
    "    loss = -log_likelihood_part.sum()\n",
    "    #loss = deviance.sum()\n",
    "    if torch.isnan(loss).item():\n",
    "        print( \"nan loss\" )\n",
    "        break\n",
    "    if step % 100 == 0:\n",
    "        with torch.no_grad():\n",
    "            #nbprob0 = 1. / ( counts * alpha + 1 )\n",
    "            #log_likelihood_saturated_part = torch.xlogy( counts, 1 - nbprob0 ) + torch.xlogy( 1./alpha, nbprob0 )\n",
    "            deviance = -2* (log_likelihood_part - log_likelihood_saturated_part )\n",
    "            print( ( deviance.mean().item(), deviance.median().item(), deviance.min().item(), deviance.max().item() ) )\n",
    "        \n",
    "    prev = [ m.clone().detach() for m in (encoder_centers, encoder_matrix, decoder_matrix, decoder_centers) ]\n",
    "    optimizer.zero_grad()    \n",
    "    loss.backward()\n",
    "    nn.utils.clip_grad_norm_((encoder_centers, encoder_matrix, decoder_matrix, decoder_centers), max_norm=1.0)\n",
    "    optimizer.step()"
   ]
  },
  {
   "cell_type": "code",
   "execution_count": 135,
   "id": "fc5dd2ad-0521-4b83-8d1d-c1fc69078796",
   "metadata": {},
   "outputs": [
    {
     "data": {
      "text/plain": [
       "tensor([[0.0167, 0.0332, 1.2245,  ..., 0.1054, 0.0273, 0.0978],\n",
       "        [0.0211, 1.3585, 0.1299,  ..., 1.5236, 0.0200, 4.5722],\n",
       "        [0.0169, 0.0289, 4.9223,  ..., 3.2385, 0.0414, 0.7346],\n",
       "        ...,\n",
       "        [0.0203, 0.2231, 0.1014,  ..., 3.9115, 0.0329, 0.0523],\n",
       "        [0.0132, 0.0195, 0.0203,  ..., 3.5928, 0.2352, 0.0882],\n",
       "        [0.0171, 0.3543, 0.1363,  ..., 1.6039, 0.0327, 0.0080]],\n",
       "       device='cuda:0', grad_fn=<MulBackward0>)"
      ]
     },
     "execution_count": 135,
     "metadata": {},
     "output_type": "execute_result"
    }
   ],
   "source": [
    "deviance"
   ]
  },
  {
   "cell_type": "code",
   "execution_count": 95,
   "id": "e89e119a-531a-4e9e-90d6-c729c5e52d9e",
   "metadata": {},
   "outputs": [],
   "source": [
    "cur = ( encoder_centers, encoder_matrix, decoder_matrix, decoder_centers )\n",
    "encoder_centers, encoder_matrix, decoder_matrix, decoder_centers = prev"
   ]
  },
  {
   "cell_type": "code",
   "execution_count": 96,
   "id": "5b8aa86c-aa19-4a10-b30e-6bd88b8f7527",
   "metadata": {},
   "outputs": [],
   "source": [
    "for m in prev:\n",
    "    m.requires_grad_(True)"
   ]
  },
  {
   "cell_type": "code",
   "execution_count": 97,
   "id": "6d063f66-f5b0-488f-93f2-7f665e5092f2",
   "metadata": {},
   "outputs": [],
   "source": [
    "latent = ( lncounts - encoder_centers ) @ encoder_matrix\n",
    "lambda_hat = torch.exp( latent @ decoder_matrix + decoder_centers ) * totals[:,None]\n",
    "nbprob = 1. / ( lambda_hat * alpha + 1 )\n",
    "nbprob = n\n",
    "log_likelihood_part = torch.xlogy( counts, 1 - nbprob ) + torch.xlogy( 1./alpha, nbprob )\n",
    "deviance = -2* ( log_likelihood_part - log_likelihood_saturated_part )\n",
    "deviance = torch.clamp( deviance, -50, 0 )\n",
    "loss = -log_likelihood_part.sum()\n"
   ]
  },
  {
   "cell_type": "code",
   "execution_count": 98,
   "id": "61c7a4cd-e757-4661-81f6-6f2438dfbf6b",
   "metadata": {},
   "outputs": [],
   "source": [
    "loss.backward()"
   ]
  },
  {
   "cell_type": "code",
   "execution_count": 111,
   "id": "a30fa2d5-b890-4f4c-934e-4c66ce7a073b",
   "metadata": {},
   "outputs": [
    {
     "data": {
      "text/plain": [
       "tensor([0.9622, 0.9812, 0.8026,  ..., 0.9776, 1.0000, 0.9652], device='cuda:0',\n",
       "       grad_fn=<SelectBackward0>)"
      ]
     },
     "execution_count": 111,
     "metadata": {},
     "output_type": "execute_result"
    }
   ],
   "source": [
    "nbprob[:,630]"
   ]
  },
  {
   "cell_type": "code",
   "execution_count": 94,
   "id": "39293c12-94c4-48db-b849-55459fa4aa36",
   "metadata": {},
   "outputs": [
    {
     "data": {
      "text/plain": [
       "<matplotlib.collections.PathCollection at 0x7f6024a96d90>"
      ]
     },
     "execution_count": 94,
     "metadata": {},
     "output_type": "execute_result"
    },
    {
     "data": {
      "image/png": "[encoded data removed]",
      "text/plain": [
       "<Figure size 640x480 with 1 Axes>"
      ]
     },
     "metadata": {},
     "output_type": "display_data"
    }
   ],
   "source": [
    "plt.scatter( lncounts.mean(0).cpu().detach(), decoder_centers.cpu().detach(), s=.2 )"
   ]
  },
  {
   "cell_type": "code",
   "execution_count": 156,
   "id": "b6a73984-42a2-46b2-8146-2bb565ecbb76",
   "metadata": {},
   "outputs": [
    {
     "data": {
      "text/plain": [
       "tensor(1.1175e+08, device='cuda:0', grad_fn=<NegBackward0>)"
      ]
     },
     "execution_count": 156,
     "metadata": {},
     "output_type": "execute_result"
    }
   ],
   "source": [
    "import torch\n",
    "\n",
    "dim1 = 200\n",
    "\n",
    "class Autoencoder(nn.Module):\n",
    "    def __init__(self):\n",
    "        super(Autoencoder, self).__init__()\n",
    "        self.encoder = nn.Sequential(\n",
    "            nn.Linear(2000, dim1),\n",
    "            nn.BatchNorm1d(dim1),\n",
    "            nn.ReLU(),\n",
    "            nn.Linear(dim1, 20),\n",
    "            nn.BatchNorm1d(20),\n",
    "            #nn.ReLU()\n",
    "        )\n",
    "        self.decoder = nn.Sequential(\n",
    "            nn.Linear(20, dim1),\n",
    "            nn.BatchNorm1d(dim1),\n",
    "            nn.ReLU(),\n",
    "            nn.Linear(dim1, 2000),\n",
    "            #nn.BatchNorm1d(2000),\n",
    "            #nn.ReLU()\n",
    "        )\n",
    "        \n",
    "    def forward(self, x):\n",
    "        x = self.encoder(x)\n",
    "        x = self.decoder(x)\n",
    "        return x\n",
    "\n",
    "model = Autoencoder().cuda()\n",
    "\n",
    "counts = torch.tensor( ad.layers[\"counts\"].todense(), dtype=torch.float32 ).cuda()\n",
    "totals = counts.sum(1)\n",
    "lncounts = torch.log(counts / totals[:, None] + 1e-4)\n",
    "gene_means = lncounts.mean(0).detach()\n",
    "\n",
    "eta_hat = model( lncounts - gene_means )\n",
    "lambda_hat = torch.exp( eta_hat + gene_means ) * totals[:,None]\n",
    "\n",
    "alpha = .1**2\n",
    "nbprob = 1. / (lambda_hat * alpha + 1)\n",
    "nbprob = torch.clamp( nbprob, 1e-5, 1-1e-5 )\n",
    "log_likelihood_part = torch.xlogy(counts, 1 - nbprob) + torch.xlogy(1. / alpha, nbprob)\n",
    "loss = -log_likelihood_part.sum()\n",
    "loss"
   ]
  },
  {
   "cell_type": "code",
   "execution_count": null,
   "id": "ebe7db1d-aa38-486d-bc7e-92cd4132f10e",
   "metadata": {},
   "outputs": [
    {
     "name": "stdout",
     "output_type": "stream",
     "text": [
      "Epoch [1/10000], Loss: 55641060.0000\n",
      "(2.377359628677368, 0.27460822463035583)\n",
      "Epoch [101/10000], Loss: 45340408.0000\n",
      "(1.212778925895691, 0.15660692751407623)\n",
      "Epoch [201/10000], Loss: 41378816.0000\n",
      "(0.7834348082542419, 0.106899693608284)\n",
      "Epoch [301/10000], Loss: 39834776.0000\n",
      "(0.6122679710388184, 0.08111453056335449)\n",
      "Epoch [401/10000], Loss: 39382276.0000\n",
      "(0.5320304036140442, 0.06471727043390274)\n",
      "Epoch [501/10000], Loss: 38694312.0000\n",
      "(0.4885430932044983, 0.05359175428748131)\n",
      "Epoch [601/10000], Loss: 38619464.0000\n",
      "(0.4614768624305725, 0.04572198912501335)\n",
      "Epoch [701/10000], Loss: 38225920.0000\n",
      "(0.4425472915172577, 0.04007025435566902)\n",
      "Epoch [801/10000], Loss: 38140004.0000\n",
      "(0.42818889021873474, 0.03577790781855583)\n",
      "Epoch [901/10000], Loss: 38014160.0000\n",
      "(0.4166598916053772, 0.03245140239596367)\n",
      "Epoch [1001/10000], Loss: 38198444.0000\n",
      "(0.4070424437522888, 0.029804542660713196)\n",
      "Epoch [1101/10000], Loss: 38003936.0000\n",
      "(0.3988170623779297, 0.0276107769459486)\n",
      "Epoch [1201/10000], Loss: 38060884.0000\n",
      "(0.3916913568973541, 0.025798555463552475)\n",
      "Epoch [1301/10000], Loss: 37731856.0000\n",
      "(0.3854571580886841, 0.024263858795166016)\n",
      "Epoch [1401/10000], Loss: 37671012.0000\n",
      "(0.3799617290496826, 0.022961027920246124)\n",
      "Epoch [1501/10000], Loss: 37775160.0000\n",
      "(0.3751099109649658, 0.021816490218043327)\n",
      "Epoch [1601/10000], Loss: 37805012.0000\n",
      "(0.37080007791519165, 0.020791180431842804)\n",
      "Epoch [1701/10000], Loss: 37791608.0000\n",
      "(0.3669433295726776, 0.019885096698999405)\n",
      "Epoch [1801/10000], Loss: 37540480.0000\n",
      "(0.36348432302474976, 0.01909824088215828)\n",
      "Epoch [1901/10000], Loss: 37874628.0000\n",
      "(0.3603724241256714, 0.01838291808962822)\n",
      "Epoch [2001/10000], Loss: 37563600.0000\n",
      "(0.35756102204322815, 0.01771528460085392)\n",
      "Epoch [2101/10000], Loss: 37499528.0000\n",
      "(0.35500863194465637, 0.017119185999035835)\n"
     ]
    }
   ],
   "source": [
    "model = Autoencoder().cuda()\n",
    "\n",
    "optimizer = torch.optim.Adam( model.parameters(), lr=1e-4, eps=1e-3 )\n",
    "num_epochs = 10000\n",
    "\n",
    "# Training loop\n",
    "for epoch in range(num_epochs):\n",
    "    model.train()\n",
    "    optimizer.zero_grad()\n",
    "\n",
    "    # Forward pass\n",
    "    eta_hat = model( lncounts - gene_means )\n",
    "    lambda_hat = torch.exp( eta_hat + gene_means ) * totals[:,None]\n",
    "    \n",
    "    # Compute negative binomial loss\n",
    "    alpha = .1**2\n",
    "    nbprob = 1. / (lambda_hat * alpha + 1)\n",
    "    nbprob = torch.clamp( nbprob, 1e-5, 1-1e-5 )\n",
    "    log_likelihood_part = torch.xlogy(counts, 1 - nbprob) + torch.xlogy(1. / alpha, nbprob)\n",
    "    #loss = -log_likelihood_part.sum()\n",
    "\n",
    "    ncells = log_likelihood_part.shape[0]\n",
    "    indices = torch.randperm(ncells)[:int(ncells * 0.5)]\n",
    "    loss = -log_likelihood_part[indices,:].sum()\n",
    "\n",
    "    if torch.isnan(loss).item():\n",
    "        print( \"loss is nan\" )\n",
    "        break\n",
    "    \n",
    "    # Backward pass and optimization\n",
    "    prev_model = copy.deepcopy(model)\n",
    "    loss.backward()\n",
    "    optimizer.step()\n",
    "\n",
    "    # Print loss for every epoch\n",
    "    if epoch % 100 == 0:\n",
    "        print(f'Epoch [{epoch+1}/{num_epochs}], Loss: {loss.item():.4f}')\n",
    "\n",
    "        with torch.no_grad():\n",
    "            log_likelihood = torch.lgamma( counts + 1./alpha ) - math.lgamma(1./alpha) - torch.lgamma( counts + 1 ) + \\\n",
    "                torch.xlogy( counts, 1 - nbprob ) + torch.xlogy( 1./alpha, nbprob )\n",
    "            nbprob0 = 1. / ( counts * alpha + 1 )\n",
    "            log_likelihood_saturated = torch.lgamma( counts + 1./alpha ) - math.lgamma(1./alpha) - torch.lgamma( counts + 1 ) + \\\n",
    "                torch.xlogy( counts, 1 - nbprob0 ) + torch.xlogy( 1./alpha, nbprob0 )\n",
    "            deviance = -2* (log_likelihood - log_likelihood_saturated )\n",
    "            print( ( deviance.mean().item(), deviance.median().item() ) )\n"
   ]
  },
  {
   "cell_type": "code",
   "execution_count": 22,
   "id": "0671f838-ab40-4370-8738-6cdb5689cbd1",
   "metadata": {},
   "outputs": [
    {
     "data": {
      "text/plain": [
       "array([-1.5258789e-05, -1.5258789e-05, -1.5258789e-05, ...,\n",
       "        4.7333188e+02,  5.7289001e+02,  6.2203540e+02], dtype=float32)"
      ]
     },
     "execution_count": 22,
     "metadata": {},
     "output_type": "execute_result"
    }
   ],
   "source": [
    "dfl = deviance.cpu().numpy().flatten()\n",
    "dfl.sort()\n",
    "dfl"
   ]
  },
  {
   "cell_type": "code",
   "execution_count": null,
   "id": "0464e825-f7af-4c99-a51f-7732682e9dd2",
   "metadata": {},
   "outputs": [],
   "source": []
  },
  {
   "cell_type": "code",
   "execution_count": 12,
   "id": "c684629b-06d9-4c85-9945-28ca9aff96da",
   "metadata": {},
   "outputs": [
    {
     "name": "stdout",
     "output_type": "stream",
     "text": [
      "Epoch [1/10000], Loss: nan\n",
      "(nan, nan)\n"
     ]
    },
    {
     "ename": "KeyboardInterrupt",
     "evalue": "",
     "output_type": "error",
     "traceback": [
      "\u001b[0;31m---------------------------------------------------------------------------\u001b[0m",
      "\u001b[0;31mKeyboardInterrupt\u001b[0m                         Traceback (most recent call last)",
      "Cell \u001b[0;32mIn[12], line 30\u001b[0m\n\u001b[1;32m     27\u001b[0m     loss \u001b[38;5;241m=\u001b[39m \u001b[38;5;241m-\u001b[39mlog_likelihood_part\u001b[38;5;241m.\u001b[39msum()\n\u001b[1;32m     29\u001b[0m     \u001b[38;5;66;03m# Backward pass and optimization\u001b[39;00m\n\u001b[0;32m---> 30\u001b[0m     \u001b[43mloss\u001b[49m\u001b[38;5;241;43m.\u001b[39;49m\u001b[43mbackward\u001b[49m\u001b[43m(\u001b[49m\u001b[43m)\u001b[49m\n\u001b[1;32m     31\u001b[0m     optimizer\u001b[38;5;241m.\u001b[39mstep()\n\u001b[1;32m     33\u001b[0m \u001b[38;5;66;03m# Print loss\u001b[39;00m\n",
      "File \u001b[0;32m~/pyenv_torch/lib/python3.11/site-packages/torch/_tensor.py:487\u001b[0m, in \u001b[0;36mTensor.backward\u001b[0;34m(self, gradient, retain_graph, create_graph, inputs)\u001b[0m\n\u001b[1;32m    477\u001b[0m \u001b[38;5;28;01mif\u001b[39;00m has_torch_function_unary(\u001b[38;5;28mself\u001b[39m):\n\u001b[1;32m    478\u001b[0m     \u001b[38;5;28;01mreturn\u001b[39;00m handle_torch_function(\n\u001b[1;32m    479\u001b[0m         Tensor\u001b[38;5;241m.\u001b[39mbackward,\n\u001b[1;32m    480\u001b[0m         (\u001b[38;5;28mself\u001b[39m,),\n\u001b[0;32m   (...)\u001b[0m\n\u001b[1;32m    485\u001b[0m         inputs\u001b[38;5;241m=\u001b[39minputs,\n\u001b[1;32m    486\u001b[0m     )\n\u001b[0;32m--> 487\u001b[0m \u001b[43mtorch\u001b[49m\u001b[38;5;241;43m.\u001b[39;49m\u001b[43mautograd\u001b[49m\u001b[38;5;241;43m.\u001b[39;49m\u001b[43mbackward\u001b[49m\u001b[43m(\u001b[49m\n\u001b[1;32m    488\u001b[0m \u001b[43m    \u001b[49m\u001b[38;5;28;43mself\u001b[39;49m\u001b[43m,\u001b[49m\u001b[43m \u001b[49m\u001b[43mgradient\u001b[49m\u001b[43m,\u001b[49m\u001b[43m \u001b[49m\u001b[43mretain_graph\u001b[49m\u001b[43m,\u001b[49m\u001b[43m \u001b[49m\u001b[43mcreate_graph\u001b[49m\u001b[43m,\u001b[49m\u001b[43m \u001b[49m\u001b[43minputs\u001b[49m\u001b[38;5;241;43m=\u001b[39;49m\u001b[43minputs\u001b[49m\n\u001b[1;32m    489\u001b[0m \u001b[43m\u001b[49m\u001b[43m)\u001b[49m\n",
      "File \u001b[0;32m~/pyenv_torch/lib/python3.11/site-packages/torch/autograd/__init__.py:200\u001b[0m, in \u001b[0;36mbackward\u001b[0;34m(tensors, grad_tensors, retain_graph, create_graph, grad_variables, inputs)\u001b[0m\n\u001b[1;32m    195\u001b[0m     retain_graph \u001b[38;5;241m=\u001b[39m create_graph\n\u001b[1;32m    197\u001b[0m \u001b[38;5;66;03m# The reason we repeat same the comment below is that\u001b[39;00m\n\u001b[1;32m    198\u001b[0m \u001b[38;5;66;03m# some Python versions print out the first line of a multi-line function\u001b[39;00m\n\u001b[1;32m    199\u001b[0m \u001b[38;5;66;03m# calls in the traceback and some print out the last line\u001b[39;00m\n\u001b[0;32m--> 200\u001b[0m \u001b[43mVariable\u001b[49m\u001b[38;5;241;43m.\u001b[39;49m\u001b[43m_execution_engine\u001b[49m\u001b[38;5;241;43m.\u001b[39;49m\u001b[43mrun_backward\u001b[49m\u001b[43m(\u001b[49m\u001b[43m  \u001b[49m\u001b[38;5;66;43;03m# Calls into the C++ engine to run the backward pass\u001b[39;49;00m\n\u001b[1;32m    201\u001b[0m \u001b[43m    \u001b[49m\u001b[43mtensors\u001b[49m\u001b[43m,\u001b[49m\u001b[43m \u001b[49m\u001b[43mgrad_tensors_\u001b[49m\u001b[43m,\u001b[49m\u001b[43m \u001b[49m\u001b[43mretain_graph\u001b[49m\u001b[43m,\u001b[49m\u001b[43m \u001b[49m\u001b[43mcreate_graph\u001b[49m\u001b[43m,\u001b[49m\u001b[43m \u001b[49m\u001b[43minputs\u001b[49m\u001b[43m,\u001b[49m\n\u001b[1;32m    202\u001b[0m \u001b[43m    \u001b[49m\u001b[43mallow_unreachable\u001b[49m\u001b[38;5;241;43m=\u001b[39;49m\u001b[38;5;28;43;01mTrue\u001b[39;49;00m\u001b[43m,\u001b[49m\u001b[43m \u001b[49m\u001b[43maccumulate_grad\u001b[49m\u001b[38;5;241;43m=\u001b[39;49m\u001b[38;5;28;43;01mTrue\u001b[39;49;00m\u001b[43m)\u001b[49m\n",
      "\u001b[0;31mKeyboardInterrupt\u001b[0m: "
     ]
    }
   ],
   "source": [
    "model = Autoencoder().cuda()\n",
    "\n",
    "alpha = .1**2\n",
    "\n",
    "optimizer = torch.optim.Adam( model.parameters(), lr=1e-2 )\n",
    "num_epochs = 10000\n",
    "\n",
    "# Create DataLoader\n",
    "dataset = torch.utils.data.TensorDataset( lncounts, counts )\n",
    "dataloader = torch.utils.data.DataLoader( dataset, batch_size=64, shuffle=True )\n",
    "\n",
    "# Training loop\n",
    "for epoch in range(num_epochs):\n",
    "    model.train()\n",
    "\n",
    "    epoch_loss = 0\n",
    "    for batch_lncounts, batch_counts in dataloader:\n",
    "        optimizer.zero_grad()\n",
    "    \n",
    "        # Forward pass\n",
    "        eta_hat = model( batch_lncounts - gene_means )\n",
    "        lambda_hat = torch.exp( eta_hat + gene_means ) * batch_counts.sum(1)[:,None]\n",
    "    \n",
    "        # Compute negative binomial loss\n",
    "        nbprob = 1. / (lambda_hat * alpha + 1)\n",
    "        log_likelihood_part = torch.xlogy( batch_counts, 1 - nbprob ) + torch.xlogy( 1. / alpha, nbprob )\n",
    "        loss = -log_likelihood_part.sum()\n",
    "\n",
    "        # Backward pass and optimization\n",
    "        loss.backward()\n",
    "        optimizer.step()\n",
    "\n",
    "    # Print loss\n",
    "    if epoch % 50 == 0:\n",
    "        model.eval()\n",
    "        print(f'Epoch [{epoch+1}/{num_epochs}], Loss: {loss.item():.4f}')\n",
    "\n",
    "        with torch.no_grad():\n",
    "            eta_hat = model( lncounts - gene_means )\n",
    "            lambda_hat = torch.exp( eta_hat + gene_means ) * counts.sum(1)[:,None]\n",
    "    \n",
    "            nbprob = 1. / (lambda_hat * alpha + 1)\n",
    "            log_likelihood = torch.lgamma( counts + 1./alpha ) - math.lgamma(1./alpha) - torch.lgamma( counts + 1 ) + \\\n",
    "                torch.xlogy( counts, 1 - nbprob ) + torch.xlogy( 1./alpha, nbprob )\n",
    "            nbprob0 = 1. / ( counts * alpha + 1 )\n",
    "            log_likelihood_saturated = torch.lgamma( counts + 1./alpha ) - math.lgamma(1./alpha) - torch.lgamma( counts + 1 ) + \\\n",
    "                torch.xlogy( counts, 1 - nbprob0 ) + torch.xlogy( 1./alpha, nbprob0 )\n",
    "            deviance = -2* (log_likelihood - log_likelihood_saturated )\n",
    "            print( ( deviance.mean().item(), deviance.median().item() ) )\n"
   ]
  },
  {
   "cell_type": "code",
   "execution_count": 559,
   "id": "57e6726d-8913-4d7f-bd1b-267016057eec",
   "metadata": {},
   "outputs": [
    {
     "data": {
      "text/plain": [
       "torch.Size([64])"
      ]
     },
     "execution_count": 559,
     "metadata": {},
     "output_type": "execute_result"
    }
   ],
   "source": [
    "batch_counts.sum(1).shape"
   ]
  },
  {
   "cell_type": "code",
   "execution_count": null,
   "id": "cf41eb43-607f-458c-a465-0701ecbe7a9a",
   "metadata": {},
   "outputs": [],
   "source": []
  }
 ],
 "metadata": {
  "kernelspec": {
   "display_name": "Python 3 (ipykernel)",
   "language": "python",
   "name": "python3"
  },
  "language_info": {
   "codemirror_mode": {
    "name": "ipython",
    "version": 3
   },
   "file_extension": ".py",
   "mimetype": "text/x-python",
   "name": "python",
   "nbconvert_exporter": "python",
   "pygments_lexer": "ipython3",
   "version": "3.11.3"
  }
 },
 "nbformat": 4,
 "nbformat_minor": 5
}
